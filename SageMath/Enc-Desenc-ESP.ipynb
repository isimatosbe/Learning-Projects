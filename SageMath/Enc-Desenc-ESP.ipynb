{
 "cells": [
  {
   "cell_type": "markdown",
   "metadata": {},
   "source": [
    "# ENCRIPTADOR Y DESENCRIPTADOR"
   ]
  },
  {
   "cell_type": "markdown",
   "metadata": {},
   "source": [
    "## Código"
   ]
  },
  {
   "cell_type": "markdown",
   "metadata": {},
   "source": [
    "1.- Una función que me repite la clave un numero de veces, para poder sumarsela al código"
   ]
  },
  {
   "cell_type": "code",
   "execution_count": 3,
   "metadata": {},
   "outputs": [],
   "source": [
    "def Repetidor(K,n):\n",
    "    K2 = \"\"\n",
    "    for i in range(0,n):\n",
    "        K2 = K2 + K\n",
    "    return K2"
   ]
  },
  {
   "cell_type": "markdown",
   "metadata": {},
   "source": [
    "2.- La Ñ no aparece bien usando los comandos ord() y chr() así que las tuve que hacer a mano"
   ]
  },
  {
   "cell_type": "code",
   "execution_count": 4,
   "metadata": {},
   "outputs": [],
   "source": [
    "Alfabeto = ['A','B','C','D','E','F','G','H','I','J','K','L','M','N','Ñ','O','P','Q','R','S','T','U','V','W','X','Y','Z']\n",
    "n = len(Alfabeto)\n",
    "Par = []\n",
    "for i in range(0,n):\n",
    "    Par = Par + [(i,Alfabeto[i])]"
   ]
  },
  {
   "cell_type": "code",
   "execution_count": 5,
   "metadata": {},
   "outputs": [],
   "source": [
    "def Numero(L):\n",
    "    for i in range(0,n):\n",
    "        L1 = Par[i]\n",
    "        if L1[1] == L:\n",
    "           return L1[0]"
   ]
  },
  {
   "cell_type": "code",
   "execution_count": 6,
   "metadata": {},
   "outputs": [],
   "source": [
    "def Letra(N):\n",
    "    for i in range(0,n):\n",
    "        L1 = Par[i]\n",
    "        if L1[0] == N:\n",
    "           return L1[1]"
   ]
  },
  {
   "cell_type": "markdown",
   "metadata": {},
   "source": [
    "3.- La función de encriptar. Repito la clave suficientes veces, sumo mod 27 las letras y las uno"
   ]
  },
  {
   "cell_type": "code",
   "execution_count": 7,
   "metadata": {},
   "outputs": [],
   "source": [
    "def Encriptar(L,K):\n",
    "    l = len(L)\n",
    "    k = len(K)\n",
    "    n2 = floor(l/k)+1\n",
    "    K2 = Repetidor(K,n2)\n",
    "    Lc = list(L)\n",
    "    Kc = list(K2) \n",
    "    A = []\n",
    "    for i in range(0,l):\n",
    "        el = Numero(Lc[i])\n",
    "        kl = Numero(Kc[i])\n",
    "        m = mod(el+kl,n)\n",
    "        A = A + [Letra(m)]\n",
    "    return ''.join(A)"
   ]
  },
  {
   "cell_type": "markdown",
   "metadata": {},
   "source": [
    "4.- La función de desencriptar. Repito la clave suficientes veces, resto mod 27 las letras y las uno"
   ]
  },
  {
   "cell_type": "code",
   "execution_count": 8,
   "metadata": {},
   "outputs": [],
   "source": [
    "def DesEncriptar(L,K):\n",
    "    l = len(L)\n",
    "    k = len(K)\n",
    "    n2 = floor(l/k)+1\n",
    "    K2 = Repetidor(K,n2)\n",
    "    Lc = list(L)\n",
    "    Kc = list(K2) \n",
    "    A = []\n",
    "    for i in range(0,l):\n",
    "        el = Numero(Lc[i])\n",
    "        kl = Numero(Kc[i])\n",
    "        m = mod(el-kl,n)\n",
    "        A = A + [Letra(m)]\n",
    "    return ''.join(A)"
   ]
  },
  {
   "cell_type": "markdown",
   "metadata": {},
   "source": [
    "## Ejemplo"
   ]
  },
  {
   "cell_type": "code",
   "execution_count": 9,
   "metadata": {},
   "outputs": [
    {
     "data": {
      "text/plain": [
       "'SUWJWEFLKAZIEE'"
      ]
     },
     "execution_count": 9,
     "metadata": {},
     "output_type": "execute_result"
    }
   ],
   "source": [
    "Encriptar('QUEBUENDIAHACE','CASI')"
   ]
  },
  {
   "cell_type": "code",
   "execution_count": 10,
   "metadata": {},
   "outputs": [
    {
     "data": {
      "text/plain": [
       "'QUEBUENDIAHACE'"
      ]
     },
     "execution_count": 10,
     "metadata": {},
     "output_type": "execute_result"
    }
   ],
   "source": [
    "DesEncriptar('SUWJWEFLKAZIEE','CASI')"
   ]
  },
  {
   "cell_type": "code",
   "execution_count": 11,
   "metadata": {},
   "outputs": [
    {
     "data": {
      "text/plain": [
       "True"
      ]
     },
     "execution_count": 11,
     "metadata": {},
     "output_type": "execute_result"
    }
   ],
   "source": [
    "'QUEBUENDIAHACE' == DesEncriptar(Encriptar('QUEBUENDIAHACE','CASI'),'CASI')"
   ]
  }
 ],
 "metadata": {
  "kernelspec": {
   "display_name": "SageMath 9.0",
   "language": "sage",
   "name": "sagemath"
  },
  "language_info": {
   "codemirror_mode": {
    "name": "ipython",
    "version": 3
   },
   "file_extension": ".py",
   "mimetype": "text/x-python",
   "name": "python",
   "nbconvert_exporter": "python",
   "pygments_lexer": "ipython3",
   "version": "3.7.3"
  }
 },
 "nbformat": 4,
 "nbformat_minor": 2
}
