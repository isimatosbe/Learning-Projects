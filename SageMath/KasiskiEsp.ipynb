{
 "cells": [
  {
   "cell_type": "markdown",
   "metadata": {},
   "source": [
    "# PROGRAMAR KASISKI"
   ]
  },
  {
   "cell_type": "markdown",
   "metadata": {},
   "source": [
    "## Hallar la Longitud del Código"
   ]
  },
  {
   "cell_type": "markdown",
   "metadata": {},
   "source": [
    "Mi idea era poder elegir la longitud de los n-grafos y la cantidad min de veces que se repitan, para poder ser más o menos preciso."
   ]
  },
  {
   "cell_type": "markdown",
   "metadata": {},
   "source": [
    "1.- La primera función nos permite contar las repeticiones de una cadena en un texto"
   ]
  },
  {
   "cell_type": "code",
   "execution_count": 4,
   "metadata": {},
   "outputs": [],
   "source": [
    "def Contar(P,L):\n",
    "    contador = 0\n",
    "    n = len(P)\n",
    "    rg = range(0, len(L)-n)\n",
    "    for i in rg:\n",
    "        if P == L[i:i+n]:\n",
    "           contador = contador + 1            \n",
    "    return contador"
   ]
  },
  {
   "cell_type": "code",
   "execution_count": 5,
   "metadata": {},
   "outputs": [
    {
     "data": {
      "text/plain": [
       "2"
      ]
     },
     "execution_count": 5,
     "metadata": {},
     "output_type": "execute_result"
    }
   ],
   "source": [
    "Contar('ho','hohola')"
   ]
  },
  {
   "cell_type": "code",
   "execution_count": 6,
   "metadata": {},
   "outputs": [
    {
     "data": {
      "text/plain": [
       "3"
      ]
     },
     "execution_count": 6,
     "metadata": {},
     "output_type": "execute_result"
    }
   ],
   "source": [
    "Contar('RCO','DSJMHWRAXTVRCOSJDJJOORQLGBÑRHORIHKARCOPHSUGQUVOUTDVRHGVZDEOGRSVRZJGFXVARCOOMQKGADKAHXJVLOUZOSGRHJSMVGFVGGVADLSORILTDOZSPLGDKEUGUURARRZEVGWGQDCKRTDPLSVLO')"
   ]
  },
  {
   "cell_type": "markdown",
   "metadata": {},
   "source": [
    "2.- Ya esta función nos permite obtener las cadenas de longitud n, que se remiten al menos m veces, de un texto L"
   ]
  },
  {
   "cell_type": "code",
   "execution_count": 7,
   "metadata": {},
   "outputs": [],
   "source": [
    "def ContarP(n,m,L):\n",
    "    pal = []\n",
    "    s = 0\n",
    "    t = mod(n,len(L))\n",
    "    rg = range(0, len(L)-t)\n",
    "    for i in rg:\n",
    "        if Contar(L[i:i+n],L) >= m:\n",
    "           pal = pal + [L[i:i+n]]\n",
    "           s = Contar(L[i:i+n],L)\n",
    "    pal2 = list(dict.fromkeys(pal))\n",
    "    return pal2"
   ]
  },
  {
   "cell_type": "code",
   "execution_count": 8,
   "metadata": {},
   "outputs": [
    {
     "data": {
      "text/plain": [
       "['RCO', 'ORI', 'ARC']"
      ]
     },
     "execution_count": 8,
     "metadata": {},
     "output_type": "execute_result"
    }
   ],
   "source": [
    "ContarP(3,2,'DSJMHWRAXTVRCOSJDJJOORQLGBÑRHORIHKARCOPHSUGQUVOUTDVRHGVZDEOGRSVRZJGFXVARCOOMQKGADKAHXJVLOUZOSGRHJSMVGFVGGVADLSORILTDOZSPLGDKEUGUURARRZEVGWGQDCKRTDPLSVLO')"
   ]
  },
  {
   "cell_type": "code",
   "execution_count": 9,
   "metadata": {},
   "outputs": [
    {
     "data": {
      "text/plain": [
       "['ZM',\n",
       " 'YA',\n",
       " 'AW',\n",
       " 'WA',\n",
       " 'EA',\n",
       " 'AL',\n",
       " 'MZ',\n",
       " 'ZR',\n",
       " 'VN',\n",
       " 'WB',\n",
       " 'ND',\n",
       " 'DS',\n",
       " 'WG',\n",
       " 'GZ',\n",
       " 'UB',\n",
       " 'OW',\n",
       " 'FW',\n",
       " 'WI',\n",
       " 'FA',\n",
       " 'WZ',\n",
       " 'BX',\n",
       " 'MP',\n",
       " 'VF',\n",
       " 'FO',\n",
       " 'XS',\n",
       " 'LQ',\n",
       " 'QF',\n",
       " 'FG',\n",
       " 'PG',\n",
       " 'ZQ',\n",
       " 'EG',\n",
       " 'MB',\n",
       " 'IZ',\n",
       " 'RG',\n",
       " 'ZH',\n",
       " 'HU',\n",
       " 'HT',\n",
       " 'BG',\n",
       " 'WL',\n",
       " 'LU',\n",
       " 'OV',\n",
       " 'AF',\n",
       " 'NA',\n",
       " 'AV',\n",
       " 'LP',\n",
       " 'CH',\n",
       " 'FL',\n",
       " 'LA',\n",
       " 'AT',\n",
       " 'TQ',\n",
       " 'QB',\n",
       " 'QZ',\n",
       " 'RK',\n",
       " 'KB',\n",
       " 'SF',\n",
       " 'FK',\n",
       " 'AU',\n",
       " 'QR',\n",
       " 'SA',\n",
       " 'SZ',\n",
       " 'AA',\n",
       " 'AB',\n",
       " 'RF',\n",
       " 'MM',\n",
       " 'PQ',\n",
       " 'NK',\n",
       " 'OE',\n",
       " 'FV',\n",
       " 'VR',\n",
       " 'UW',\n",
       " 'NF',\n",
       " 'TS',\n",
       " 'GC',\n",
       " 'UU',\n",
       " 'BT',\n",
       " 'KQ',\n",
       " 'OA',\n",
       " 'EW',\n",
       " 'GN']"
      ]
     },
     "execution_count": 9,
     "metadata": {},
     "output_type": "execute_result"
    }
   ],
   "source": [
    "ContarP(2,4,'ZMXZBVIDYAWAEALGTPTEAMZRVNMOCZWBAHNDSIWGZGAINYIUBOWKMIFWIHWFAWZGBXBXMPJMQDVFOXSSLQFGFWMPGJZQXSVOIEGYWMBWAYIZRGZMHWFAWZHUSBIOFHTMBGWLUBZQJDOVFAFWDZQANAVEKVLPUBGZMECHFLATFATQBPWQZFRKBXSFKLDSNEAUKNDSQRNDWZSASZDCJKBDSRLAATPGJNZRKBABRFMMHULPQVNDWATNKBDSRLTMACABGFAWLYMPGTXOELWFVRUWXRNFLPOZHETSAEGQMREQFRKBMPOWLNMGZMRZNKPATNFMABYAOTHGZIFGCDQFHUWVUUULIZRGGCOVRVBTSFGCZRBXAUZRFKQOAVQZHUWVMYRVTUUULQEOJLMZHUGCEOAVXQCCDMYOLTMYCEWXQCCDMFOYCQZUJABTCHLABSNCQZUCWWBZRZMMFVFOIWGZWGHYAAFSAAVSDRGXXSJJQFWAYAABTKBTOGNWUQRKVQJRJATOEWIZRAGWZSQSZQRQAAFIETBTSFGCZRBXAUZRFKQTBGTEGNALUMBMLABBLSZCJKQXSAUMXWXWIOOAUMDUEGEEVRSZYMJGZPGGZIFWZAOTHGWIOVLGCFOXWUKOEEAFVNLQYWTZBDSNUPKCHTCFALOWDRFDQWSFATQBGJIUBQJWBGSWTXOAVMOVBWLUBGZMISYDAATFATQBPWIZRGZMBSBHTQPBOMPOAVXDOLWLFCGZMZSBFOARGZMKANVMMBQLPQGVYVRZNKPQRBMBUHFOIDBVFOUBGZMICEVAFVNLQFKNKNAFZAVSOAVBTSFAOZGNALFVROWDRFGNFVRHZADUWBEOEWEDWGLMZCALPQGHTEMMJSTXGNFLFSAWUQBGZIXZFSVPKUAABSEWLUBGZMECHFLECSKQXSAUM')"
   ]
  },
  {
   "cell_type": "markdown",
   "metadata": {},
   "source": [
    "3.- Para hallar la longitud del texto necesito la distancia entre repeticiones, por lo que voy a hallar las posiciones y las diferencias de estas 2 a 2, luego lo haré para un bloque entero de repeticiones dado por \"ContarP\" y haré el gcd()"
   ]
  },
  {
   "cell_type": "code",
   "execution_count": 10,
   "metadata": {},
   "outputs": [],
   "source": [
    "def Distancia(P,L):\n",
    "    contador = []\n",
    "    n = len(P)\n",
    "    rg = range(0,len(L))\n",
    "    for i in rg:\n",
    "        if P == L[i:i+n]:\n",
    "           contador = contador + [i]\n",
    "    return contador"
   ]
  },
  {
   "cell_type": "code",
   "execution_count": 11,
   "metadata": {},
   "outputs": [
    {
     "data": {
      "text/plain": [
       "[0, 110, 159, 308, 453, 698, 718, 743, 753, 793, 908]"
      ]
     },
     "execution_count": 11,
     "metadata": {},
     "output_type": "execute_result"
    }
   ],
   "source": [
    "Distancia('ZM','ZMXZBVIDYAWAEALGTPTEAMZRVNMOCZWBAHNDSIWGZGAINYIUBOWKMIFWIHWFAWZGBXBXMPJMQDVFOXSSLQFGFWMPGJZQXSVOIEGYWMBWAYIZRGZMHWFAWZHUSBIOFHTMBGWLUBZQJDOVFAFWDZQANAVEKVLPUBGZMECHFLATFATQBPWQZFRKBXSFKLDSNEAUKNDSQRNDWZSASZDCJKBDSRLAATPGJNZRKBABRFMMHULPQVNDWATNKBDSRLTMACABGFAWLYMPGTXOELWFVRUWXRNFLPOZHETSAEGQMREQFRKBMPOWLNMGZMRZNKPATNFMABYAOTHGZIFGCDQFHUWVUUULIZRGGCOVRVBTSFGCZRBXAUZRFKQOAVQZHUWVMYRVTUUULQEOJLMZHUGCEOAVXQCCDMYOLTMYCEWXQCCDMFOYCQZUJABTCHLABSNCQZUCWWBZRZMMFVFOIWGZWGHYAAFSAAVSDRGXXSJJQFWAYAABTKBTOGNWUQRKVQJRJATOEWIZRAGWZSQSZQRQAAFIETBTSFGCZRBXAUZRFKQTBGTEGNALUMBMLABBLSZCJKQXSAUMXWXWIOOAUMDUEGEEVRSZYMJGZPGGZIFWZAOTHGWIOVLGCFOXWUKOEEAFVNLQYWTZBDSNUPKCHTCFALOWDRFDQWSFATQBGJIUBQJWBGSWTXOAVMOVBWLUBGZMISYDAATFATQBPWIZRGZMBSBHTQPBOMPOAVXDOLWLFCGZMZSBFOARGZMKANVMMBQLPQGVYVRZNKPQRBMBUHFOIDBVFOUBGZMICEVAFVNLQFKNKNAFZAVSOAVBTSFAOZGNALFVROWDRFGNFVRHZADUWBEOEWEDWGLMZCALPQGHTEMMJSTXGNFLFSAWUQBGZIXZFSVPKUAABSEWLUBGZMECHFLECSKQXSAUM')"
   ]
  },
  {
   "cell_type": "code",
   "execution_count": 12,
   "metadata": {},
   "outputs": [],
   "source": [
    "def Diferencias(D):\n",
    "    contador = []\n",
    "    for i in range(0,len(D)-1):\n",
    "        d = D[i+1]-D[i]\n",
    "        contador = contador + [d]\n",
    "    return contador"
   ]
  },
  {
   "cell_type": "code",
   "execution_count": 13,
   "metadata": {},
   "outputs": [],
   "source": [
    "D = Distancia('ZM','ZMXZBVIDYAWAEALGTPTEAMZRVNMOCZWBAHNDSIWGZGAINYIUBOWKMIFWIHWFAWZGBXBXMPJMQDVFOXSSLQFGFWMPGJZQXSVOIEGYWMBWAYIZRGZMHWFAWZHUSBIOFHTMBGWLUBZQJDOVFAFWDZQANAVEKVLPUBGZMECHFLATFATQBPWQZFRKBXSFKLDSNEAUKNDSQRNDWZSASZDCJKBDSRLAATPGJNZRKBABRFMMHULPQVNDWATNKBDSRLTMACABGFAWLYMPGTXOELWFVRUWXRNFLPOZHETSAEGQMREQFRKBMPOWLNMGZMRZNKPATNFMABYAOTHGZIFGCDQFHUWVUUULIZRGGCOVRVBTSFGCZRBXAUZRFKQOAVQZHUWVMYRVTUUULQEOJLMZHUGCEOAVXQCCDMYOLTMYCEWXQCCDMFOYCQZUJABTCHLABSNCQZUCWWBZRZMMFVFOIWGZWGHYAAFSAAVSDRGXXSJJQFWAYAABTKBTOGNWUQRKVQJRJATOEWIZRAGWZSQSZQRQAAFIETBTSFGCZRBXAUZRFKQTBGTEGNALUMBMLABBLSZCJKQXSAUMXWXWIOOAUMDUEGEEVRSZYMJGZPGGZIFWZAOTHGWIOVLGCFOXWUKOEEAFVNLQYWTZBDSNUPKCHTCFALOWDRFDQWSFATQBGJIUBQJWBGSWTXOAVMOVBWLUBGZMISYDAATFATQBPWIZRGZMBSBHTQPBOMPOAVXDOLWLFCGZMZSBFOARGZMKANVMMBQLPQGVYVRZNKPQRBMBUHFOIDBVFOUBGZMICEVAFVNLQFKNKNAFZAVSOAVBTSFAOZGNALFVROWDRFGNFVRHZADUWBEOEWEDWGLMZCALPQGHTEMMJSTXGNFLFSAWUQBGZIXZFSVPKUAABSEWLUBGZMECHFLECSKQXSAUM')"
   ]
  },
  {
   "cell_type": "code",
   "execution_count": 14,
   "metadata": {
    "scrolled": true
   },
   "outputs": [
    {
     "data": {
      "text/plain": [
       "[110, 49, 149, 145, 245, 20, 25, 10, 40, 115]"
      ]
     },
     "execution_count": 14,
     "metadata": {},
     "output_type": "execute_result"
    }
   ],
   "source": [
    "Diferencias(D)"
   ]
  },
  {
   "cell_type": "code",
   "execution_count": 15,
   "metadata": {},
   "outputs": [],
   "source": [
    "def DiferenciasT(n,m,L):\n",
    "    R = ContarP(n,m,L)\n",
    "    z = len(R)\n",
    "    D = []\n",
    "    for i in range(0,z):\n",
    "        D1 = Distancia(R[i],L)\n",
    "        D = D + Diferencias(D1)\n",
    "    return D"
   ]
  },
  {
   "cell_type": "code",
   "execution_count": 16,
   "metadata": {},
   "outputs": [
    {
     "data": {
      "text/plain": [
       "[24, 36, 81, 36]"
      ]
     },
     "execution_count": 16,
     "metadata": {},
     "output_type": "execute_result"
    }
   ],
   "source": [
    "DiferenciasT(3,2,'DSJMHWRAXTVRCOSJDJJOORQLGBÑRHORIHKARCOPHSUGQUVOUTDVRHGVZDEOGRSVRZJGFXVARCOOMQKGADKAHXJVLOUZOSGRHJSMVGFVGGVADLSORILTDOZSPLGDKEUGUURARRZEVGWGQDCKRTDPLSVLO')"
   ]
  },
  {
   "cell_type": "code",
   "execution_count": 17,
   "metadata": {},
   "outputs": [
    {
     "data": {
      "text/plain": [
       "[425,\n",
       " 55,\n",
       " 55,\n",
       " 55,\n",
       " 240,\n",
       " 370,\n",
       " 610,\n",
       " 610,\n",
       " 35,\n",
       " 565,\n",
       " 210,\n",
       " 540,\n",
       " 95,\n",
       " 115,\n",
       " 540,\n",
       " 95,\n",
       " 115,\n",
       " 750,\n",
       " 750,\n",
       " 750,\n",
       " 750,\n",
       " 750,\n",
       " 540,\n",
       " 540,\n",
       " 500,\n",
       " 40,\n",
       " 500,\n",
       " 40,\n",
       " 540,\n",
       " 540,\n",
       " 120,\n",
       " 35,\n",
       " 35,\n",
       " 35,\n",
       " 460,\n",
       " 460,\n",
       " 290,\n",
       " 290,\n",
       " 280,\n",
       " 40,\n",
       " 45,\n",
       " 465,\n",
       " 180,\n",
       " 285,\n",
       " 180,\n",
       " 180,\n",
       " 180,\n",
       " 180,\n",
       " 180,\n",
       " 180,\n",
       " 180,\n",
       " 180,\n",
       " 180,\n",
       " 180,\n",
       " 180,\n",
       " 180,\n",
       " 180,\n",
       " 330,\n",
       " 15,\n",
       " 15,\n",
       " 15,\n",
       " 15,\n",
       " 200,\n",
       " 270,\n",
       " 345,\n",
       " 345,\n",
       " 345,\n",
       " 165,\n",
       " 165,\n",
       " 165,\n",
       " 175,\n",
       " 175,\n",
       " 210,\n",
       " 95,\n",
       " 100]"
      ]
     },
     "execution_count": 17,
     "metadata": {},
     "output_type": "execute_result"
    }
   ],
   "source": [
    "DiferenciasT(4,2,'ZMXZBVIDYAWAEALGTPTEAMZRVNMOCZWBAHNDSIWGZGAINYIUBOWKMIFWIHWFAWZGBXBXMPJMQDVFOXSSLQFGFWMPGJZQXSVOIEGYWMBWAYIZRGZMHWFAWZHUSBIOFHTMBGWLUBZQJDOVFAFWYDZQANAVEKVLPUBGZMECHFLATFATQBPWQZFRKBXSFKLDSNEAUKNDSQRNDWZSASZDCJKBDSRLAATPGJNZRKBABRFMMHULPQVNDWATNKBDSRLTMACABGFAWLYMPGTXOELWFVRUWXRNFLPOZHETSAEGQMRKEQFRKBMPOWLNMGZMRZNKPATNFMABYAOTHGZIFGCDQFHUWVUUULIZRGGCOVRVBTSFGCZRBXAUZRFKQOAVQZHUWVMYRVTUUULQEOJLMZHUGCEOAVXQCCDMYOLTMYCEWXQCCDMFOYCQZUJABTCHLABSNCQZUCWWBZRZMMFVFOIWGZWGHYAAFSAAVSDRGXXSJJQFWAYAABTKBTOGNWUQRKVQJRJATOEWIZRAGWZSQSZQRQAAFIETBTSFGCZRBXAUZRFKQTBGTEGNALUMBMLABBLSZCJKQXSAUMXWXWIOOAUMDUEGEEVRSZYMJGZPGGZIFWZAOTHGWIOVLGCFOXWUKOEEAFVNLQYWTZBDSNUPKCHTCFALOWDRFDQWSFATQBGJIUBQJWBGSWTXOAVMOVBWLUBGZMISYDAATFATQBPWIZRGZMBSBHTQPBOMPOAVXDOLWLFCGZMZSBFOARGZMKANVMMBQLPQGVYVRZNKPQRBMBUHFOIDBVFOUBGZMICEVAFVNLQFKNKNAFZAVSOAVBTSFAOZGNALFVROWDRFGNFVRHZADUWBEOEWEDWGLMZCALPQGHTEMMJSTXGNFLFSAWUQBGZIXZFSVPKUAABSEWLUBGZMECHFLECSKQXSAUM')"
   ]
  },
  {
   "cell_type": "code",
   "execution_count": 18,
   "metadata": {},
   "outputs": [],
   "source": [
    "def LongK(n,m,L):\n",
    "    D = DiferenciasT(n,m,L)\n",
    "    long = gcd(D)\n",
    "    return long"
   ]
  },
  {
   "cell_type": "code",
   "execution_count": 19,
   "metadata": {},
   "outputs": [
    {
     "data": {
      "text/plain": [
       "3"
      ]
     },
     "execution_count": 19,
     "metadata": {},
     "output_type": "execute_result"
    }
   ],
   "source": [
    "LongK(3,2,'DSJMHWRAXTVRCOSJDJJOORQLGBÑRHORIHKARCOPHSUGQUVOUTDVRHGVZDEOGRSVRZJGFXVARCOOMQKGADKAHXJVLOUZOSGRHJSMVGFVGGVADLSORILTDOZSPLGDKEUGUURARRZEVGWGQDCKRTDPLSVLO')"
   ]
  },
  {
   "cell_type": "code",
   "execution_count": 20,
   "metadata": {},
   "outputs": [
    {
     "data": {
      "text/plain": [
       "5"
      ]
     },
     "execution_count": 20,
     "metadata": {},
     "output_type": "execute_result"
    }
   ],
   "source": [
    "LongK(4,2,\"ZMXZBVIDYAWAEALGTPTEAMZRVNMOCZWBAHNDSIWGZGAINYIUBOWKMIFWIHWFAWZGBXBXMPJMQDVFOXSSLQFGFWMPGJZQXSVOIEGYWMBWAYIZRGZMHWFAWZHUSBIOFHTMBGWLUBZQJDOVFAFWYDZQANAVEKVLPUBGZMECHFLATFATQBPWQZFRKBXSFKLDSNEAUKNDSQRNDWZSASZDCJKBDSRLAATPGJNZRKBABRFMMHULPQVNDWATNKBDSRLTMACABGFAWLYMPGTXOELWFVRUWXRNFLPOZHETSAEGQMRKEQFRKBMPOWLNMGZMRZNKPATNFMABYAOTHGZIFGCDQFHUWVUUULIZRGGCOVRVBTSFGCZRBXAUZRFKQOAVQZHUWVMYRVTUUULQEOJLMZHUGCEOAVXQCCDMYOLTMYCEWXQCCDMFOYCQZUJABTCHLABSNCQZUCWWBZRZMMFVFOIWGZWGHYAAFSAAVSDRGXXSJJQFWAYAABTKBTOGNWUQRKVQJRJATOEWIZRAGWZSQSZQRQAAFIETBTSFGCZRBXAUZRFKQTBGTEGNALUMBMLABBLSZCJKQXSAUMXWXWIOOAUMDUEGEEVRSZYMJGZPGGZIFWZAOTHGWIOVLGCFOXWUKOEEAFVNLQYWTZBDSNUPKCHTCFALOWDRFDQWSFATQBGJIUBQJWBGSWTXOAVMOVBWLUBGZMISYDAATFATQBPWIZRGZMBSBHTQPBOMPOAVXDOLWLFCGZMZSBFOARGZMKANVMMBQLPQGVYVRZNKPQRBMBUHFOIDBVFOUBGZMICEVAFVNLQFKNKNAFZAVSOAVBTSFAOZGNALFVROWDRFGNFVRHZADUWBEOEWEDWGLMZCALPQGHTEMMJSTXGNFLFSAWUQBGZIXZFSVPKUAABSEWLUBGZMECHFLECSKQXSAUM\")"
   ]
  },
  {
   "cell_type": "markdown",
   "metadata": {},
   "source": [
    "## Particiones Según la Long y Frecuencias"
   ]
  },
  {
   "cell_type": "markdown",
   "metadata": {},
   "source": [
    "4.- Partimos el texto en longK partes"
   ]
  },
  {
   "cell_type": "code",
   "execution_count": 21,
   "metadata": {},
   "outputs": [],
   "source": [
    "def Partir(long,L):\n",
    "    particiones = []\n",
    "    for i in range(0,long):\n",
    "        rg = range(i,len(L),long)\n",
    "        C = []\n",
    "        for j in rg:\n",
    "            C = C + [L[j]]\n",
    "        particiones = particiones + [C]\n",
    "    return particiones"
   ]
  },
  {
   "cell_type": "code",
   "execution_count": 22,
   "metadata": {},
   "outputs": [],
   "source": [
    "long = LongK(4,2,'ZMXZBVIDYAWAEALGTPTEAMZRVNMOCZWBAHNDSIWGZGAINYIUBOWKMIFWIHWFAWZGBXBXMPJMQDVFOXSSLQFGFWMPGJZQXSVOIEGYWMBWAYIZRGZMHWFAWZHUSBIOFHTMBGWLUBZQJDOVFAFWYDZQANAVEKVLPUBGZMECHFLATFATQBPWQZFRKBXSFKLDSNEAUKNDSQRNDWZSASZDCJKBDSRLAATPGJNZRKBABRFMMHULPQVNDWATNKBDSRLTMACABGFAWLYMPGTXOELWFVRUWXRNFLPOZHETSAEGQMRKEQFRKBMPOWLNMGZMRZNKPATNFMABYAOTHGZIFGCDQFHUWVUUULIZRGGCOVRVBTSFGCZRBXAUZRFKQOAVQZHUWVMYRVTUUULQEOJLMZHUGCEOAVXQCCDMYOLTMYCEWXQCCDMFOYCQZUJABTCHLABSNCQZUCWWBZRZMMFVFOIWGZWGHYAAFSAAVSDRGXXSJJQFWAYAABTKBTOGNWUQRKVQJRJATOEWIZRAGWZSQSZQRQAAFIETBTSFGCZRBXAUZRFKQTBGTEGNALUMBMLABBLSZCJKQXSAUMXWXWIOOAUMDUEGEEVRSZYMJGZPGGZIFWZAOTHGWIOVLGCFOXWUKOEEAFVNLQYWTZBDSNUPKCHTCFALOWDRFDQWSFATQBGJIUBQJWBGSWTXOAVMOVBWLUBGZMISYDAATFATQBPWIZRGZMBSBHTQPBOMPOAVXDOLWLFCGZMZSBFOARGZMKANVMMBQLPQGVYVRZNKPQRBMBUHFOIDBVFOUBGZMICEVAFVNLQFKNKNAFZAVSOAVBTSFAOZGNALFVROWDRFGNFVRHZADUWBEOEWEDWGLMZCALPQGHTEMMJSTXGNFLFSAWUQBGZIXZFSVPKUAABSEWLUBGZMECHFLECSKQXSAUM')"
   ]
  },
  {
   "cell_type": "code",
   "execution_count": 23,
   "metadata": {},
   "outputs": [],
   "source": [
    "L = 'ZMXZBVIDYAWAEALGTPTEAMZRVNMOCZWBAHNDSIWGZGAINYIUBOWKMIFWIHWFAWZGBXBXMPJMQDVFOXSSLQFGFWMPGJZQXSVOIEGYWMBWAYIZRGZMHWFAWZHUSBIOFHTMBGWLUBZQJDOVFAFWYDZQANAVEKVLPUBGZMECHFLATFATQBPWQZFRKBXSFKLDSNEAUKNDSQRNDWZSASZDCJKBDSRLAATPGJNZRKBABRFMMHULPQVNDWATNKBDSRLTMACABGFAWLYMPGTXOELWFVRUWXRNFLPOZHETSAEGQMRKEQFRKBMPOWLNMGZMRZNKPATNFMABYAOTHGZIFGCDQFHUWVUUULIZRGGCOVRVBTSFGCZRBXAUZRFKQOAVQZHUWVMYRVTUUULQEOJLMZHUGCEOAVXQCCDMYOLTMYCEWXQCCDMFOYCQZUJABTCHLABSNCQZUCWWBZRZMMFVFOIWGZWGHYAAFSAAVSDRGXXSJJQFWAYAABTKBTOGNWUQRKVQJRJATOEWIZRAGWZSQSZQRQAAFIETBTSFGCZRBXAUZRFKQTBGTEGNALUMBMLABBLSZCJKQXSAUMXWXWIOOAUMDUEGEEVRSZYMJGZPGGZIFWZAOTHGWIOVLGCFOXWUKOEEAFVNLQYWTZBDSNUPKCHTCFALOWDRFDQWSFATQBGJIUBQJWBGSWTXOAVMOVBWLUBGZMISYDAATFATQBPWIZRGZMBSBHTQPBOMPOAVXDOLWLFCGZMZSBFOARGZMKANVMMBQLPQGVYVRZNKPQRBMBUHFOIDBVFOUBGZMICEVAFVNLQFKNKNAFZAVSOAVBTSFAOZGNALFVROWDRFGNFVRHZADUWBEOEWEDWGLMZCALPQGHTEMMJSTXGNFLFSAWUQBGZIXZFSVPKUAABSEWLUBGZMECHFLECSKQXSAUM'"
   ]
  },
  {
   "cell_type": "code",
   "execution_count": 24,
   "metadata": {},
   "outputs": [
    {
     "data": {
      "text/plain": [
       "5"
      ]
     },
     "execution_count": 24,
     "metadata": {},
     "output_type": "execute_result"
    }
   ],
   "source": [
    "P = Partir(long,L)\n",
    "len(P)"
   ]
  },
  {
   "cell_type": "code",
   "execution_count": 25,
   "metadata": {},
   "outputs": [],
   "source": [
    "Alfabeto = ['A','B','C','D','E','F','G','H','I','J','K','L','M','N','Ñ','O','P','Q','R','S','T','U','V','W','X','Y','Z']"
   ]
  },
  {
   "cell_type": "code",
   "execution_count": 26,
   "metadata": {},
   "outputs": [
    {
     "data": {
      "text/plain": [
       "27"
      ]
     },
     "execution_count": 26,
     "metadata": {},
     "output_type": "execute_result"
    }
   ],
   "source": [
    "len(Alfabeto)"
   ]
  },
  {
   "cell_type": "markdown",
   "metadata": {},
   "source": [
    "5.- Contamos la cantidad de veces que aparece cada letra en nuestro código"
   ]
  },
  {
   "cell_type": "code",
   "execution_count": 27,
   "metadata": {},
   "outputs": [],
   "source": [
    "def Frecuencias(C):\n",
    "    F = []\n",
    "    n = len(Alfabeto)\n",
    "    m = len(C)\n",
    "    for i in range(0,n):\n",
    "        cont = 0\n",
    "        for j in range(0,m):\n",
    "            if Alfabeto[i] == C[j]:\n",
    "               cont = cont + 1\n",
    "        F = F + [cont]\n",
    "    return F"
   ]
  },
  {
   "cell_type": "markdown",
   "metadata": {},
   "source": [
    "6.- El programa no es perfecto, entonces si no es capaz de asegurarme una posición (esto puede darse, más adelante se ve claro porque), estaría muy bien que me devolviera la tabla de frecuencias de lo que queda por hallar para hacerlo yo a mano"
   ]
  },
  {
   "cell_type": "code",
   "execution_count": 28,
   "metadata": {},
   "outputs": [],
   "source": [
    "def Pares(F):\n",
    "    L = []\n",
    "    for i in range(0,len(F)):\n",
    "        L = L + [(Alfabeto[i],F[i])]\n",
    "    return L"
   ]
  },
  {
   "cell_type": "markdown",
   "metadata": {},
   "source": [
    "## Estadísticas del Lenguaje para Hallar la Clave"
   ]
  },
  {
   "cell_type": "markdown",
   "metadata": {},
   "source": [
    "Al igual que se podría hacer a mano, voy a usar la regla AEOS, para hallar la clave, es decir, supondré que las letras AEOS (AEOT en inglés) son las que más se repiten y si tengo un texto lo suficientemente grande, la redundancia del lenguaje me dice, que estas van a ser las que más se repitan en mi texto."
   ]
  },
  {
   "cell_type": "markdown",
   "metadata": {},
   "source": [
    "7.- Necesitaremos las posiciones de algunos elementos a lo largo del programa, pero que haya más de un elemento de máxima frecuencia, nos hace considerar más casos a la hora de aplicar estadísticas del lenguaje, por lo que cree dos funciones para índices: \"index\" me devuelve la posición de la primera repetición (útil para calcular el conjunto de máxima frecuencias) e \"indexM\" que me devuelve las posiciones de los elementos de máxima frecuencia"
   ]
  },
  {
   "cell_type": "code",
   "execution_count": 29,
   "metadata": {},
   "outputs": [],
   "source": [
    "def index(C,el):\n",
    "    c = 0\n",
    "    for i in range(0,len(C)):\n",
    "        if C[i] != el:\n",
    "           c = c + 1\n",
    "        else: break\n",
    "    return c"
   ]
  },
  {
   "cell_type": "code",
   "execution_count": 30,
   "metadata": {},
   "outputs": [],
   "source": [
    "def indexM(C,el):\n",
    "    c = []\n",
    "    for i in range(0,len(C)):\n",
    "        if C[i] == el:\n",
    "           c = c + [i]\n",
    "    return c"
   ]
  },
  {
   "cell_type": "markdown",
   "metadata": {},
   "source": [
    "8.- Parte del proceso de usar estadística del lenguaje se basa en que una de las letras AEOS quede en una posición de maxima frecuencia y el resto tengan frecuencias \"altas\", el concepto de \"altas\" lo definiré de manera arbitraria, como que pertenezcan al conjunto de las N mayores frecuencias. Más adelante afino este N."
   ]
  },
  {
   "cell_type": "code",
   "execution_count": 31,
   "metadata": {},
   "outputs": [],
   "source": [
    "def TopN(C,N):\n",
    "    mx = max(C)\n",
    "    L = [mx]\n",
    "    if N == 0:\n",
    "       L = L\n",
    "    else: \n",
    "       i = index(C,mx)\n",
    "       del C[i]\n",
    "       N1 = N - 1\n",
    "       L = L + TopN(C,N1)\n",
    "    return L"
   ]
  },
  {
   "cell_type": "code",
   "execution_count": 32,
   "metadata": {},
   "outputs": [],
   "source": [
    "C = Frecuencias(P[0])"
   ]
  },
  {
   "cell_type": "code",
   "execution_count": 33,
   "metadata": {},
   "outputs": [
    {
     "data": {
      "text/plain": [
       "[26, 19, 18, 16, 14, 14, 13]"
      ]
     },
     "execution_count": 33,
     "metadata": {},
     "output_type": "execute_result"
    }
   ],
   "source": [
    "TopN(C,6)"
   ]
  },
  {
   "cell_type": "markdown",
   "metadata": {},
   "source": [
    "9.- Aquí viene el grueso. Como puede haber más de un elemento de máxima frecuencia creo dos funciones \"Sustitucion\" que llama a \"Sustituciones\" para cada elemento de máxima frecuencia. Comento \"Sustituciones\" en el código mejor"
   ]
  },
  {
   "cell_type": "code",
   "execution_count": 34,
   "metadata": {},
   "outputs": [],
   "source": [
    "# A está función le entran: \n",
    "# - C: una lista de frecuencias\n",
    "# - I: la posición del elemento de máxima frecuencia\n",
    "# - N: la lista con frecuencias máximas\n",
    "\n",
    "def Sustituciones(C,I,N):\n",
    "    n = len(Alfabeto)\n",
    "    A = []    \n",
    "    \n",
    "# Vamos a suponer que la E es la de máxima frecuencia\n",
    "    j = mod(I-4,n) # Posición de la A en este caso\n",
    "    k = mod(I+11,n) # Posición de la O en este caso\n",
    "    l = mod(I+15,n) # Posición de la S en este caso\n",
    "    a = C[j] # Frecuencia que asociamos a A en este caso\n",
    "    b = C[k] # Frecuencia que asociamos a O en este caso\n",
    "    c = C[l] # Frecuencia que asociamos a S en este caso\n",
    "\n",
    "# Vamos a suponer que la A es la de máxima frecuencia\n",
    "    ja = mod(I+4,n) # Pos. E\n",
    "    ka = mod(I+15,n) # Pos. O\n",
    "    la = mod(I+19,n) # Pos. S\n",
    "    aa = C[ja] # Frec. Asoc. a E\n",
    "    ba = C[ka] # Frec. Asoc. a O\n",
    "    ca = C[la] # Frec. Asos. a S\n",
    "    \n",
    "# Vamos a suponer que la O es la de máxima frecuencia    \n",
    "    jo = mod(I-15,n) # Pos. A\n",
    "    ko = mod(I-11,n) # Pos. E\n",
    "    lo = mod(I+4,n) # Pos. S\n",
    "    ao = C[jo] # Frec. Asoc. a A\n",
    "    bo = C[ko] # Frec. Asoc. a E\n",
    "    co = C[lo] # Frec. Asoc. a S\n",
    "    \n",
    "# Vamos a suponer que la S es la de máxima frecuencia\n",
    "    js = mod(I-19,n) # Pos. A\n",
    "    ks = mod(I-15,n) # Pos. E\n",
    "    ls = mod(I-4,n) # Pos. O\n",
    "    aas = C[js] # Frec. Asoc. a A\n",
    "    bbs = C[ks] # Frec. Asoc. a E\n",
    "    ccs = C[ls] # Frec. Asoc. a O\n",
    "\n",
    "# Ahora compruebo si la colocación de mis letras cumple la condición de ser de las frecuencias más \"altas\"\n",
    "# si alguna lo verifica, me devuelve la letra a la que va la A en la Clave (que es una letra de la clave).\n",
    "# Si ninguna lo verifica no me devuelve nada, más adelante le pido que en este caso me devuelva la tabla de\n",
    "# frecuencias para la posición de la clave que no es capaz de deducir.\n",
    "\n",
    "    if (a in N) & (b in N) & (c in N):\n",
    "       A = Alfabeto[j]\n",
    "    elif (aa in N) & (ba in N) & (ca in N):\n",
    "       A = Alfabeto[I]\n",
    "    elif (ao in N) & (bo in N) & (co in N):\n",
    "       A = Alfabeto[jo]\n",
    "    elif (aas in N) & (bbs in N) & (ccs in N):\n",
    "       A = Alfabeto[js]\n",
    "    else: A = []\n",
    "    return A"
   ]
  },
  {
   "cell_type": "code",
   "execution_count": 35,
   "metadata": {},
   "outputs": [],
   "source": [
    "def Sustitucion(C):\n",
    "    n = len(Alfabeto)\n",
    "    \n",
    "# La magía de que todo esto funcione depende de preción que le pida al conjunto de máximas frecuencias\n",
    "# si es enorme me va a devolver claves erroneas (cualquier cosa valdría), y si es muy pequeño (nunca\n",
    "# devolvera nada). Tras probar ejemplos, un poco de palpito y aleatoriedad, quería un valor mayor que\n",
    "# 1/4*n (este valor me daba pocos resultados) y menor que 1/2*n (me devolvía claves mal), probando el que\n",
    "# mejor me funcionó fue 9*n/32. Quería que tuviera relación con la longitud del alfabeto, para que\n",
    "# restringiera mejor la selección. Pero como he dicho antes, este valor es muy arbitrario.\n",
    "\n",
    "    m = floor(9*n/32)\n",
    "    C1 = C + [0]\n",
    "    N = TopN(C1,m)\n",
    "    mx = N[0]\n",
    "    ind = indexM(C,mx)\n",
    "    A = []\n",
    "    for i in ind:\n",
    "        if Sustituciones(C,i,N) != []:\n",
    "           A = Sustituciones(C,i,N)\n",
    "           break\n",
    "    return A"
   ]
  },
  {
   "cell_type": "code",
   "execution_count": 36,
   "metadata": {},
   "outputs": [
    {
     "data": {
      "text/plain": [
       "[]"
      ]
     },
     "execution_count": 36,
     "metadata": {},
     "output_type": "execute_result"
    }
   ],
   "source": [
    "F = Frecuencias(P[0])\n",
    "Sustitucion(F) # Este ejemplo está en inglés, por eso no va bien, tengo otro programa para inglés que si devuelve la S"
   ]
  },
  {
   "cell_type": "markdown",
   "metadata": {},
   "source": [
    "## KASINSKI"
   ]
  },
  {
   "cell_type": "code",
   "execution_count": 37,
   "metadata": {},
   "outputs": [],
   "source": [
    "def KasinskiG(n,m,L):\n",
    "    Key = [] # Es lo que va a ser la clave más tarde\n",
    "    E = [] # Aquí añado las tablas de frecuencia de las posiciones que no resuelve\n",
    "    long = LongK(n,m,L)\n",
    "    particiones = Partir(long,L)\n",
    "    for i in range(0,long):\n",
    "        C = particiones[i]\n",
    "        F = Frecuencias(C)\n",
    "        K1 = Sustitucion(F)\n",
    "        if K1 == []:\n",
    "           E = E + [Pares(F)]\n",
    "           Key = Key + [(i,\"_\")] # Esto es para que al imprimir la clave se vea todo bien\n",
    "        else: Key = Key + [(i,K1)]\n",
    "    return Key, E, long"
   ]
  },
  {
   "cell_type": "code",
   "execution_count": 38,
   "metadata": {},
   "outputs": [],
   "source": [
    "L = 'ZMXZBVIDYAWAEALGTPTEAMZRVNMOCZWBAHNDSIWGZGAINYIUBOWKMIFWIHWFAWZGBXBXMPJMQDVFOXSSLQFGFWMPGJZQXSVOIEGYWMBWAYIZRGZMHWFAWZHUSBIOFHTMBGWLUBZQJDOVFAFWYDZQANAVEKVLPUBGZMECHFLATFATQBPWQZFRKBXSFKLDSNEAUKNDSQRNDWZSASZDCJKBDSRLAATPGJNZRKBABRFMMHULPQVNDWATNKBDSRLTMACABGFAWLYMPGTXOELWFVRUWXRNFLPOZHETSAEGQMRKEQFRKBMPOWLNMGZMRZNKPATNFMABYAOTHGZIFGCDQFHUWVUUULIZRGGCOVRVBTSFGCZRBXAUZRFKQOAVQZHUWVMYRVTUUULQEOJLMZHUGCEOAVXQCCDMYOLTMYCEWXQCCDMFOYCQZUJABTCHLABSNCQZUCWWBZRZMMFVFOIWGZWGHYAAFSAAVSDRGXXSJJQFWAYAABTKBTOGNWUQRKVQJRJATOEWIZRAGWZSQSZQRQAAFIETBTSFGCZRBXAUZRFKQTBGTEGNALUMBMLABBLSZCJKQXSAUMXWXWIOOAUMDUEGEEVRSZYMJGZPGGZIFWZAOTHGWIOVLGCFOXWUKOEEAFVNLQYWTZBDSNUPKCHTCFALOWDRFDQWSFATQBGJIUBQJWBGSWTXOAVMOVBWLUBGZMISYDAATFATQBPWIZRGZMBSBHTQPBOMPOAVXDOLWLFCGZMZSBFOARGZMKANVMMBQLPQGVYVRZNKPQRBMBUHFOIDBVFOUBGZMICEVAFVNLQFKNKNAFZAVSOAVBTSFAOZGNALFVROWDRFGNFVRHZADUWBEOEWEDWGLMZCALPQGHTEMMJSTXGNFLFSAWUQBGZIXZFSVPKUAABSEWLUBGZMECHFLECSKQXSAUM'"
   ]
  },
  {
   "cell_type": "code",
   "execution_count": 39,
   "metadata": {},
   "outputs": [
    {
     "data": {
      "text/plain": [
       "([(0, '_'), (1, 'I'), (2, '_'), (3, '_'), (4, '_')],\n",
       " [[('A', 19),\n",
       "   ('B', 0),\n",
       "   ('C', 2),\n",
       "   ('D', 10),\n",
       "   ('E', 3),\n",
       "   ('F', 13),\n",
       "   ('G', 14),\n",
       "   ('H', 4),\n",
       "   ('I', 0),\n",
       "   ('J', 5),\n",
       "   ('K', 14),\n",
       "   ('L', 16),\n",
       "   ('M', 2),\n",
       "   ('N', 2),\n",
       "   ('Ñ', 0),\n",
       "   ('O', 5),\n",
       "   ('P', 0),\n",
       "   ('Q', 1),\n",
       "   ('R', 0),\n",
       "   ('S', 6),\n",
       "   ('T', 4),\n",
       "   ('U', 5),\n",
       "   ('V', 10),\n",
       "   ('W', 26),\n",
       "   ('X', 3),\n",
       "   ('Y', 4),\n",
       "   ('Z', 18)],\n",
       "  [('A', 14),\n",
       "   ('B', 6),\n",
       "   ('C', 0),\n",
       "   ('D', 13),\n",
       "   ('E', 11),\n",
       "   ('F', 19),\n",
       "   ('G', 2),\n",
       "   ('H', 2),\n",
       "   ('I', 5),\n",
       "   ('J', 0),\n",
       "   ('K', 3),\n",
       "   ('L', 0),\n",
       "   ('M', 9),\n",
       "   ('N', 2),\n",
       "   ('Ñ', 0),\n",
       "   ('O', 5),\n",
       "   ('P', 6),\n",
       "   ('Q', 20),\n",
       "   ('R', 2),\n",
       "   ('S', 2),\n",
       "   ('T', 9),\n",
       "   ('U', 15),\n",
       "   ('V', 0),\n",
       "   ('W', 1),\n",
       "   ('X', 14),\n",
       "   ('Y', 5),\n",
       "   ('Z', 20)],\n",
       "  [('A', 5),\n",
       "   ('B', 18),\n",
       "   ('C', 14),\n",
       "   ('D', 3),\n",
       "   ('E', 0),\n",
       "   ('F', 5),\n",
       "   ('G', 12),\n",
       "   ('H', 10),\n",
       "   ('I', 3),\n",
       "   ('J', 1),\n",
       "   ('K', 4),\n",
       "   ('L', 0),\n",
       "   ('M', 7),\n",
       "   ('N', 0),\n",
       "   ('Ñ', 0),\n",
       "   ('O', 19),\n",
       "   ('P', 2),\n",
       "   ('Q', 1),\n",
       "   ('R', 14),\n",
       "   ('S', 24),\n",
       "   ('T', 7),\n",
       "   ('U', 5),\n",
       "   ('V', 10),\n",
       "   ('W', 11),\n",
       "   ('X', 0),\n",
       "   ('Y', 2),\n",
       "   ('Z', 8)],\n",
       "  [('A', 18),\n",
       "   ('B', 12),\n",
       "   ('C', 5),\n",
       "   ('D', 0),\n",
       "   ('E', 10),\n",
       "   ('F', 16),\n",
       "   ('G', 20),\n",
       "   ('H', 5),\n",
       "   ('I', 0),\n",
       "   ('J', 8),\n",
       "   ('K', 0),\n",
       "   ('L', 5),\n",
       "   ('M', 0),\n",
       "   ('N', 21),\n",
       "   ('Ñ', 0),\n",
       "   ('O', 2),\n",
       "   ('P', 5),\n",
       "   ('Q', 4),\n",
       "   ('R', 19),\n",
       "   ('S', 3),\n",
       "   ('T', 2),\n",
       "   ('U', 9),\n",
       "   ('V', 8),\n",
       "   ('W', 0),\n",
       "   ('X', 2),\n",
       "   ('Y', 6),\n",
       "   ('Z', 5)]],\n",
       " 5)"
      ]
     },
     "execution_count": 39,
     "metadata": {},
     "output_type": "execute_result"
    }
   ],
   "source": [
    "KasinskiG(4,2,L)"
   ]
  },
  {
   "cell_type": "markdown",
   "metadata": {},
   "source": [
    "Como me estaba gustando cree unas lineas de entrada y salida para que todo fuera más simple. Tenía el fichero entrelazado con el de \"Enc-Desenc-ESP\" (descangandomelo en formato Python) para que si encontraba la clave entera, me devolviera el texto desencriptado, y en caso de faltar letras de la clave, pues me preguntara si la habia resuelto y me permitía meterla entera y probar el desencriptado. Para que no le de problemas (le voy a mandar el archivo notebook solo) lo voy a comentar, si quisiera usarlo, solo tiene que descargarse el otro archivo en formato .py, guardarlos en la misma carpeta y descomentar lo de abajo"
   ]
  },
  {
   "cell_type": "code",
   "execution_count": 41,
   "metadata": {},
   "outputs": [
    {
     "name": "stdout",
     "output_type": "stream",
     "text": [
      "Vamos a Romper a Vigènere \n",
      "\n",
      "¿Qué Cógigo Tenemos? \n",
      "VOPVCFRTCUMBGHGKGSCTYKTNJMPKIBVGYQEYSSRKYYEEJGWGVQRGPSTLNDIFVIOMMTGGYUSLGZNCZCJEYGGSJVGJIJDSLRVARWCYECOTPVWYUSCEIQLSQLIPDMLGWRJEQJIAZFGJIJRORRILVOFGWÑZXYCYQHWYENNKIBVPYUVGUHNEHCVWRRFYZQEJIQRHNLVYKWSWVGJYLRGAZHCEXCUYPRQRVYLNMYAIBVGYTIPZECEFNLWSRQYIYCCIÑJSTGGNMQYWVYTXSJECEOYTEBVVY\n",
      "\n",
      "Longitud de Repeticiones Buscamos igual a 3\n",
      "Que se Repitan al menos cuántas veces 2\n",
      "\n",
      "Tenemos una Clave de Longitud 3\n",
      "Tenemos Parte de la Clave RE_\n",
      "Te Toca Trabajar un Poco\n",
      "[[('A', 3), ('B', 5), ('C', 11), ('D', 0), ('E', 1), ('F', 3), ('G', 6), ('H', 0), ('I', 0), ('J', 3), ('K', 0), ('L', 6), ('M', 0), ('N', 8), ('Ñ', 2), ('O', 1), ('P', 6), ('Q', 5), ('R', 6), ('S', 6), ('T', 2), ('U', 0), ('V', 0), ('W', 0), ('X', 0), ('Y', 19), ('Z', 0)]]\n"
     ]
    }
   ],
   "source": [
    "    print(\"Vamos a Romper a Vigènere \\n\")\n",
    "    L1 = input(\"¿Qué Cógigo Tenemos? \\n\")\n",
    "    L2 = L1.replace(\" \", \"\") # Por si el texto tiene espacios\n",
    "    L = L2.upper() # Por si el texto esta en minúsculas (Rodrigo se encargo de mandarme uno así, y casi\n",
    "# me muero cuando solo devolvía WWWW)\n",
    "    n = int(input(\"\\nLongitud de Repeticiones Buscamos igual a \"))\n",
    "    m = int(input(\"Que se Repitan al menos cuántas veces \"))\n",
    "    S = KasinskiG(n,m,L)\n",
    "    S1 = S[0] # Esto es la parte de la clave que ya conoce, con las posiciones\n",
    "    K = [x[1] for x in S1] # Así que quito las posiciones, para tener una lista de caracteres clave\n",
    "    K1 = ''.join(K) # Uno dicha lista para obtener lo máximo posible de la clave\n",
    "    E = S[1] # Las frecuencias de las posiciones de la clave que no es capaz de resolver\n",
    "    long = S[2] # La longitud de la clave\n",
    "    print(\"\\nTenemos una Clave de Longitud \" + str(long))\n",
    "    if E == []: # En este caso, tenemos la clave completa\n",
    "       print(\"Perfecto, la Clave Es \" + K1)\n",
    "       #print(\"Y el Texto Original Es \\n\")\n",
    "    else:\n",
    "       print(\"Tenemos Parte de la Clave \" + K1)\n",
    "       print(\"Te Toca Trabajar un Poco\")\n",
    "       print(E)\n",
    "       #K1 = input(\"\\nHas Sacado lo que Falta de la Clave, Vamos a Ver si Va Bien: \")\n",
    "    #load(\"Enc-Desenc-ESP.py\")\n",
    "    #T = DesEncriptar(L,K1)\n",
    "    #print(T)"
   ]
  },
  {
   "cell_type": "markdown",
   "metadata": {},
   "source": [
    "Le dejo dos ejemplos que se que van bien en español, los mismos que le mando en las capturas"
   ]
  },
  {
   "cell_type": "code",
   "execution_count": 43,
   "metadata": {},
   "outputs": [],
   "source": [
    "L1 = 'VOPVCFRTCUMBGHGKGSCTYKTNJMPKIBVGYQEYSSRKYYEEJGWGVQRGPSTLNDIFVIOMMTGGYUSLGZNCZCJEYGGSJVGJIJDSLRVARWCYECOTPVWYUSCEIQLSQLIPDMLGWRJEQJIAZFGJIJRORRILVOFGWÑZXYCYQHWYENNKIBVPYUVGUHNEHCVWRRFYZQEJIQRHNLVYKWSWVGJYLRGAZHCEXCUYPRQRVYLNMYAIBVGYTIPZECEFNLWSRQYIYCCIÑJSTGGNMQYWVYTXSJECEOYTEBVVY'\n",
    "# Funciona tomando 3-grafos con al menos 2 repeticiones. La clave es REY"
   ]
  },
  {
   "cell_type": "code",
   "execution_count": 42,
   "metadata": {},
   "outputs": [],
   "source": [
    "L2 = 'UOFEN QUJKR GKTEO EPIGP QZMRB GZKMN FIIGE NKFDP QLJCA VMTJI CLJCA KUKGR ÑIHZO OTNVN VZFKR GIPZZ CJFKU ÑIJKT TPFVN GSQRS UIHYU UMYLS KUXLI VCYVO HBJTH OWPGG ALJDO UBWGC QUXMT GANKQ WMPRS CXPZC CKNGN GAJCE EBWGN KKFKD GIPXE DZFSO QSJRN CXTUR KIRTO OAYJU KZHMA NYZZE TZJCA EPTEL QÑNTO OCQVR KKFTO OBWZB WGTRS KTNKM QIPTA ÑXTU ENKWZ PVWFE ANPXZ SRIWR LCLJW EOAFU EGAYR DQAZE IFWXU UTIRL ENIXV GWUIR GWMWJ AÑCRU ICSHG NVZFS ALWXK ODZJV LFMXT IHZFU OFMHG DKÑTK YNIXV GWZNU AFMRC AUBJC EEWQM NKKFT IQUJK'\n",
    "# Funciona tomando 4-grafos con al menos 2 repeticiones. La clave es CIFRA"
   ]
  },
  {
   "cell_type": "code",
   "execution_count": null,
   "metadata": {},
   "outputs": [],
   "source": []
  }
 ],
 "metadata": {
  "kernelspec": {
   "display_name": "SageMath 9.0",
   "language": "sage",
   "name": "sagemath"
  },
  "language_info": {
   "codemirror_mode": {
    "name": "ipython",
    "version": 3
   },
   "file_extension": ".py",
   "mimetype": "text/x-python",
   "name": "python",
   "nbconvert_exporter": "python",
   "pygments_lexer": "ipython3",
   "version": "3.7.3"
  }
 },
 "nbformat": 4,
 "nbformat_minor": 2
}
